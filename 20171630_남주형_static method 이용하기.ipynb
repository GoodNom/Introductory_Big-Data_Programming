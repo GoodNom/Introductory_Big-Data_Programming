{
 "cells": [
  {
   "cell_type": "code",
   "execution_count": 3,
   "id": "inside-electronics",
   "metadata": {},
   "outputs": [
    {
     "name": "stdout",
     "output_type": "stream",
     "text": [
      "date: 2020, 10, 13\n",
      "date: 2020, 10, 13\n",
      "date: today\n",
      "date: today\n",
      "date: 2020, 10, 12\n"
     ]
    }
   ],
   "source": [
    "import time\n",
    "import datetime\n",
    "\n",
    "class Date(object):\n",
    "    def __init__(self,date):\n",
    "        today = time.strftime(\"%Y, %m, %d\")\n",
    "        self.Date = date\n",
    "        if today==self.Date:\n",
    "            self.Date =\"date: today\"\n",
    "        else:\n",
    "            self.Date =\"date: \"+self.Date\n",
    "            \n",
    "    def show(self):\n",
    "            print(self.Date)\n",
    "            \n",
    "    @staticmethod\n",
    "    def now():\n",
    "        return Date(time.strftime(\"%Y, %m, %d\"))\n",
    "    \n",
    "    @staticmethod\n",
    "    def yesterday(date):\n",
    "        date = date.replace(' ','').split(',')\n",
    "        year = int(date[0])\n",
    "        month = int(date[1])\n",
    "        day = int(date[2])\n",
    "        today = datetime.date(year,month,day)\n",
    "        yesterday = today+datetime.timedelta(days=-1)\n",
    "        return Date(yesterday.strftime(\"%Y, %m, %d\"))\n",
    "\n",
    "        \n",
    "a = Date(\"2020, 10, 13\")\n",
    "a.show()\n",
    "print(a.Date)\n",
    "b = Date.now()\n",
    "b.show()\n",
    "print(b.Date)\n",
    "c = Date.yesterday(\"2020, 10, 13\")\n",
    "c.show()"
   ]
  },
  {
   "cell_type": "code",
   "execution_count": 5,
   "id": "lonely-token",
   "metadata": {},
   "outputs": [
    {
     "name": "stdout",
     "output_type": "stream",
     "text": [
      "Variable   Type      Data/Info\n",
      "------------------------------\n",
      "Date       type      <class '__main__.Date'>\n",
      "a          Date      <__main__.Date object at 0x00000212A47834C0>\n",
      "b          Date      <__main__.Date object at 0x00000212A4783160>\n",
      "c          Date      <__main__.Date object at 0x00000212A47872B0>\n",
      "datetime   module    <module 'datetime' from '<...>hon39\\\\lib\\\\datetime.py'>\n",
      "time       module    <module 'time' (built-in)>\n"
     ]
    }
   ],
   "source": [
    "%whos"
   ]
  }
 ],
 "metadata": {
  "kernelspec": {
   "display_name": "Python 3",
   "language": "python",
   "name": "python3"
  },
  "language_info": {
   "codemirror_mode": {
    "name": "ipython",
    "version": 3
   },
   "file_extension": ".py",
   "mimetype": "text/x-python",
   "name": "python",
   "nbconvert_exporter": "python",
   "pygments_lexer": "ipython3",
   "version": "3.9.2"
  }
 },
 "nbformat": 4,
 "nbformat_minor": 5
}
