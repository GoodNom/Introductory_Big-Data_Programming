{
 "cells": [
  {
   "cell_type": "code",
   "execution_count": 1,
   "id": "japanese-electric",
   "metadata": {},
   "outputs": [
    {
     "name": "stdout",
     "output_type": "stream",
     "text": [
      "Writing sub.py\n"
     ]
    }
   ],
   "source": [
    "%%writefile sub.py\n",
    "\n",
    "import re\n",
    "\n",
    "def square(match):\n",
    "    value = int(match.group())\n",
    "    return str(value*value)\n",
    "\n",
    "if __name__ == \"__main__\":\n",
    "    data = \"Please, square the following numbers, 3 7 11 13 17 19\"\n",
    "    p = re.compile(r'\\d+')\n",
    "    print(p.sub(square, data))"
   ]
  },
  {
   "cell_type": "code",
   "execution_count": 2,
   "id": "unauthorized-peninsula",
   "metadata": {},
   "outputs": [
    {
     "name": "stdout",
     "output_type": "stream",
     "text": [
      "Please, square the following numbers, 9 49 121 169 289 361\n"
     ]
    }
   ],
   "source": [
    "%run sub"
   ]
  },
  {
   "cell_type": "code",
   "execution_count": null,
   "id": "front-width",
   "metadata": {},
   "outputs": [],
   "source": []
  }
 ],
 "metadata": {
  "kernelspec": {
   "display_name": "Python 3",
   "language": "python",
   "name": "python3"
  },
  "language_info": {
   "codemirror_mode": {
    "name": "ipython",
    "version": 3
   },
   "file_extension": ".py",
   "mimetype": "text/x-python",
   "name": "python",
   "nbconvert_exporter": "python",
   "pygments_lexer": "ipython3",
   "version": "3.9.2"
  }
 },
 "nbformat": 4,
 "nbformat_minor": 5
}
