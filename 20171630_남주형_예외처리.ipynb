{
 "cells": [
  {
   "cell_type": "markdown",
   "id": "graphic-mills",
   "metadata": {},
   "source": [
    "## 실습1"
   ]
  },
  {
   "cell_type": "code",
   "execution_count": 1,
   "id": "romance-bridal",
   "metadata": {},
   "outputs": [
    {
     "name": "stdout",
     "output_type": "stream",
     "text": [
      "Overwriting score.py\n"
     ]
    }
   ],
   "source": [
    "%%writefile score.py\n",
    "class ScoreError(Exception):\n",
    "    def __init__(self, msg):\n",
    "        self._message = msg\n",
    "        \n",
    "def input_score():\n",
    "    score = int(input(\"점수를 입력하시오: \"))\n",
    "    if score<0 or score>100:\n",
    "        raise ScoreError(\"점수는 0점에서 100점 사이의 값이어야 합니다.\")\n",
    "    else:\n",
    "        return score\n",
    "\n",
    "if __name__ == \"__main__\":\n",
    "    try:\n",
    "        score = input_score()\n",
    "    except ScoreError as e:\n",
    "        print(e.args[0])\n",
    "    else:\n",
    "        print(\"점수는 %d입니다.\" %score)"
   ]
  },
  {
   "cell_type": "code",
   "execution_count": 2,
   "id": "standing-giant",
   "metadata": {},
   "outputs": [
    {
     "name": "stdout",
     "output_type": "stream",
     "text": [
      "점수를 입력하시오: 101\n",
      "점수는 0점에서 100점 사이의 값이어야 합니다.\n"
     ]
    }
   ],
   "source": [
    "%run score"
   ]
  },
  {
   "cell_type": "code",
   "execution_count": 3,
   "id": "stunning-romania",
   "metadata": {},
   "outputs": [
    {
     "name": "stdout",
     "output_type": "stream",
     "text": [
      "점수를 입력하시오: -2\n",
      "점수는 0점에서 100점 사이의 값이어야 합니다.\n"
     ]
    }
   ],
   "source": [
    "%run score"
   ]
  },
  {
   "cell_type": "code",
   "execution_count": 4,
   "id": "connected-leader",
   "metadata": {},
   "outputs": [
    {
     "name": "stdout",
     "output_type": "stream",
     "text": [
      "점수를 입력하시오: 99\n",
      "점수는 99입니다.\n"
     ]
    }
   ],
   "source": [
    "%run score"
   ]
  },
  {
   "cell_type": "markdown",
   "id": "olympic-quest",
   "metadata": {},
   "source": [
    "## 실습2"
   ]
  },
  {
   "cell_type": "code",
   "execution_count": 5,
   "id": "infectious-pittsburgh",
   "metadata": {},
   "outputs": [
    {
     "name": "stdout",
     "output_type": "stream",
     "text": [
      "Overwriting list_index.py\n"
     ]
    }
   ],
   "source": [
    "%%writefile list_index.py\n",
    "if __name__ == \"__main__\":\n",
    "    num = [0,1,2,3,4,5,6,7,8,9,10]\n",
    "    while True:\n",
    "        try:\n",
    "            index = int(input(\"인덱스를 입력하시오: \"))\n",
    "            print(num[index])\n",
    "        except IndexError:\n",
    "            print(-1)\n",
    "        except KeyboardInterrupt:\n",
    "            print(\"프로그램을 종료합니다.\")\n",
    "            break\n",
    "        except ValueError:\n",
    "            print(\"프로그램을 종료합니다.\")\n",
    "            break"
   ]
  },
  {
   "cell_type": "code",
   "execution_count": 6,
   "id": "another-backing",
   "metadata": {},
   "outputs": [
    {
     "name": "stdout",
     "output_type": "stream",
     "text": [
      "인덱스를 입력하시오: 3\n",
      "3\n",
      "인덱스를 입력하시오: 6\n",
      "6\n",
      "인덱스를 입력하시오: 10\n",
      "10\n",
      "인덱스를 입력하시오: 11\n",
      "-1\n",
      "인덱스를 입력하시오: 25\n",
      "-1\n",
      "인덱스를 입력하시오: 51\n",
      "-1\n",
      "인덱스를 입력하시오: \n",
      "프로그램을 종료합니다.\n"
     ]
    }
   ],
   "source": [
    "%run list_index"
   ]
  },
  {
   "cell_type": "code",
   "execution_count": null,
   "id": "celtic-shadow",
   "metadata": {},
   "outputs": [],
   "source": []
  }
 ],
 "metadata": {
  "kernelspec": {
   "display_name": "Python 3",
   "language": "python",
   "name": "python3"
  },
  "language_info": {
   "codemirror_mode": {
    "name": "ipython",
    "version": 3
   },
   "file_extension": ".py",
   "mimetype": "text/x-python",
   "name": "python",
   "nbconvert_exporter": "python",
   "pygments_lexer": "ipython3",
   "version": "3.9.2"
  }
 },
 "nbformat": 4,
 "nbformat_minor": 5
}
