{
 "cells": [
  {
   "cell_type": "markdown",
   "id": "hybrid-empty",
   "metadata": {},
   "source": [
    "## 실습2-(1)"
   ]
  },
  {
   "cell_type": "code",
   "execution_count": 1,
   "id": "appreciated-lotus",
   "metadata": {},
   "outputs": [
    {
     "name": "stdout",
     "output_type": "stream",
     "text": [
      "Writing info_w.py\n"
     ]
    }
   ],
   "source": [
    "%%writefile info_w.py\n",
    "\n",
    "if __name__ == \"__main__\":\n",
    "    with open(\"information.txt\",\"wt\") as fp:\n",
    "        fp.write(\"3\\n\")\n",
    "        fp.write(\"3.14\\n\")\n",
    "        fp.write(\"\\\"3.14\\\"\")    "
   ]
  },
  {
   "cell_type": "code",
   "execution_count": 2,
   "id": "historical-suffering",
   "metadata": {},
   "outputs": [],
   "source": [
    "%run info_w"
   ]
  },
  {
   "cell_type": "markdown",
   "id": "burning-angle",
   "metadata": {},
   "source": [
    "## 실습2-(2)"
   ]
  },
  {
   "cell_type": "code",
   "execution_count": 3,
   "id": "editorial-blues",
   "metadata": {},
   "outputs": [
    {
     "name": "stdout",
     "output_type": "stream",
     "text": [
      "Writing info_r.py\n"
     ]
    }
   ],
   "source": [
    "%%writefile info_r.py\n",
    "\n",
    "if __name__ == \"__main__\":\n",
    "    with open(\"information.txt\",\"rt\") as fp:\n",
    "        txt = fp.read()\n",
    "        print(txt)"
   ]
  },
  {
   "cell_type": "code",
   "execution_count": 4,
   "id": "liberal-separation",
   "metadata": {},
   "outputs": [
    {
     "name": "stdout",
     "output_type": "stream",
     "text": [
      "3\n",
      "3.14\n",
      "\"3.14\"\n"
     ]
    }
   ],
   "source": [
    "%run info_r"
   ]
  },
  {
   "cell_type": "markdown",
   "id": "fifth-channels",
   "metadata": {},
   "source": [
    "## 실습2-(3)"
   ]
  },
  {
   "cell_type": "code",
   "execution_count": 5,
   "id": "pending-skating",
   "metadata": {},
   "outputs": [
    {
     "name": "stdout",
     "output_type": "stream",
     "text": [
      "Writing info_s.py\n"
     ]
    }
   ],
   "source": [
    "%%writefile info_s.py\n",
    "import pickle\n",
    "if __name__ == \"__main__\":\n",
    "    with open(\"information.dat\",\"wb\") as fp:\n",
    "        pickle.dump(3,fp)\n",
    "        pickle.dump(3.14,fp)\n",
    "        pickle.dump(\"\\\"3.14\\\"\",fp)  "
   ]
  },
  {
   "cell_type": "code",
   "execution_count": 6,
   "id": "awful-manhattan",
   "metadata": {},
   "outputs": [],
   "source": [
    "%run info_s"
   ]
  },
  {
   "cell_type": "markdown",
   "id": "vulnerable-standing",
   "metadata": {},
   "source": [
    "## 실습2-(4)"
   ]
  },
  {
   "cell_type": "code",
   "execution_count": 7,
   "id": "arbitrary-priest",
   "metadata": {},
   "outputs": [
    {
     "name": "stdout",
     "output_type": "stream",
     "text": [
      "Writing info_d.py\n"
     ]
    }
   ],
   "source": [
    "%%writefile info_d.py\n",
    "import pickle\n",
    "if __name__ == \"__main__\":\n",
    "    with open(\"information.dat\",\"rb\") as fp:\n",
    "        while True:\n",
    "            try:\n",
    "                print(pickle.load(fp))\n",
    "            except:\n",
    "                break"
   ]
  },
  {
   "cell_type": "code",
   "execution_count": 8,
   "id": "portuguese-international",
   "metadata": {},
   "outputs": [
    {
     "name": "stdout",
     "output_type": "stream",
     "text": [
      "3\n",
      "3.14\n",
      "\"3.14\"\n"
     ]
    }
   ],
   "source": [
    "%run info_d"
   ]
  },
  {
   "cell_type": "code",
   "execution_count": null,
   "id": "growing-moral",
   "metadata": {},
   "outputs": [],
   "source": []
  }
 ],
 "metadata": {
  "kernelspec": {
   "display_name": "Python 3",
   "language": "python",
   "name": "python3"
  },
  "language_info": {
   "codemirror_mode": {
    "name": "ipython",
    "version": 3
   },
   "file_extension": ".py",
   "mimetype": "text/x-python",
   "name": "python",
   "nbconvert_exporter": "python",
   "pygments_lexer": "ipython3",
   "version": "3.9.2"
  }
 },
 "nbformat": 4,
 "nbformat_minor": 5
}
