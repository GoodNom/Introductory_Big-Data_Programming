{
 "cells": [
  {
   "cell_type": "code",
   "execution_count": 1,
   "id": "completed-breathing",
   "metadata": {},
   "outputs": [
    {
     "name": "stdout",
     "output_type": "stream",
     "text": [
      "Overwriting hide_id.py\n"
     ]
    }
   ],
   "source": [
    "%%writefile hide_id.py\n",
    "\n",
    "def mode_1(data):\n",
    "    info = data.split(\" \")\n",
    "    id = info[2].split(\"-\")\n",
    "    if int(id[1][0])%2 == 1:\n",
    "        print(info[0],info[1],\"남\",id[0]+\"-*******\")\n",
    "    else:\n",
    "        print(info[0],info[1],\"여\",id[0]+\"-*******\")\n",
    "\n",
    "def mode_2(data):\n",
    "    info = data.split(\" \")\n",
    "    id = info[1].split(\"-\")\n",
    "    if int(id[1][0])%2 == 1:\n",
    "        print(info[0],\"남\",id[0]+\"-*******\",info[2])\n",
    "    else:\n",
    "        print(info[0],\"여\",id[0]+\"-*******\",info[2])\n",
    "        \n",
    "        \n",
    "\n",
    "if __name__ == \"__main__\":\n",
    "    #mode 1\n",
    "    data = \"park sunje 890901-1074422\\nkim sunhee 990103-2079912\"\n",
    "    line = data.split(\"\\n\")\n",
    "    print(\"***mode_1***\")\n",
    "    for item in line:\n",
    "        mode_1(item)\n",
    "    \n",
    "    print(\"\\n---------------------------------------\\n\")\n",
    "    \n",
    "    #mode 2\n",
    "    fp = open(\"Testdata.txt\",\"wt\",encoding = \"cp949\")\n",
    "    fp.write(\"홍길동 560922-1089123 02-705-8491\\n\")\n",
    "    fp.write(\"홍길동 560922-1089123 042-7052-8491\\n\")\n",
    "    fp.write(\"김바한솔 911212-1089123 042-705-8491\\n\")\n",
    "    fp.write(\"김연찬 920922-1089123 031-7054-8491\")\n",
    "    fp.close()\n",
    "    \n",
    "    fp = open(\"Testdata.txt\",\"rt\")\n",
    "    print(\"***mode_2***\")\n",
    "    txt = fp.read()\n",
    "    line = txt.split(\"\\n\")\n",
    "    for item in line:\n",
    "        mode_2(item)\n",
    "    fp.close()"
   ]
  },
  {
   "cell_type": "code",
   "execution_count": 2,
   "id": "usual-accuracy",
   "metadata": {},
   "outputs": [
    {
     "name": "stdout",
     "output_type": "stream",
     "text": [
      "***mode_1***\n",
      "park sunje 남 890901-*******\n",
      "kim sunhee 여 990103-*******\n",
      "\n",
      "---------------------------------------\n",
      "\n",
      "***mode_2***\n",
      "홍길동 남 560922-******* 02-705-8491\n",
      "홍길동 남 560922-******* 042-7052-8491\n",
      "김바한솔 남 911212-******* 042-705-8491\n",
      "김연찬 남 920922-******* 031-7054-8491\n"
     ]
    }
   ],
   "source": [
    "%run hide_id"
   ]
  },
  {
   "cell_type": "code",
   "execution_count": null,
   "id": "exact-plasma",
   "metadata": {},
   "outputs": [],
   "source": []
  }
 ],
 "metadata": {
  "kernelspec": {
   "display_name": "Python 3",
   "language": "python",
   "name": "python3"
  },
  "language_info": {
   "codemirror_mode": {
    "name": "ipython",
    "version": 3
   },
   "file_extension": ".py",
   "mimetype": "text/x-python",
   "name": "python",
   "nbconvert_exporter": "python",
   "pygments_lexer": "ipython3",
   "version": "3.9.2"
  }
 },
 "nbformat": 4,
 "nbformat_minor": 5
}
