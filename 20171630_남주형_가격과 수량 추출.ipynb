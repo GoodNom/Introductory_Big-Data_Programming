{
 "cells": [
  {
   "cell_type": "markdown",
   "id": "colonial-painting",
   "metadata": {},
   "source": [
    "## 실습1"
   ]
  },
  {
   "cell_type": "code",
   "execution_count": 1,
   "id": "worthy-blackberry",
   "metadata": {},
   "outputs": [
    {
     "name": "stdout",
     "output_type": "stream",
     "text": [
      "23.45\n",
      "5.01\n",
      "889.00\n",
      "69.89\n"
     ]
    }
   ],
   "source": [
    "import re\n",
    "\n",
    "data = \"\"\"\n",
    "ABC01: $23.45\n",
    "HGG42: $5.01\n",
    "CFXE1: $889.00\n",
    "XTC99: $69.89\n",
    "Total items found: 4\n",
    "\"\"\"\n",
    "\n",
    "p = re.compile(r'\\$(\\d+\\.\\d+)')\n",
    "price = p.finditer(data)\n",
    "for r in price:\n",
    "    print(r.group(1))"
   ]
  },
  {
   "cell_type": "markdown",
   "id": "enhanced-guatemala",
   "metadata": {},
   "source": [
    "## 실습2"
   ]
  },
  {
   "cell_type": "code",
   "execution_count": 2,
   "id": "infinite-faculty",
   "metadata": {},
   "outputs": [
    {
     "name": "stdout",
     "output_type": "stream",
     "text": [
      "가격을 나타내는 숫자들\n",
      "30\n",
      "5\n",
      "\n",
      "수량을 나타내는 숫자들\n",
      "100\n",
      "50\n",
      "60\n"
     ]
    }
   ],
   "source": [
    "import re\n",
    "\n",
    "data = \"\"\"\n",
    "I paid $30 for 100 apples,\n",
    "50 oranges, and 60 pears.\n",
    "I saved $5 on this order.\n",
    "\"\"\"\n",
    "\n",
    "print(\"가격을 나타내는 숫자들\")\n",
    "p  = re.compile(r'\\$(\\d+)\\s')\n",
    "price = p.finditer(data)\n",
    "for r in price:\n",
    "    print(r.group(1))\n",
    "    \n",
    "print(\"\\n수량을 나타내는 숫자들\")\n",
    "n  = re.compile(r'\\s(\\d+)\\s')\n",
    "num = n.finditer(data)\n",
    "for r in num:\n",
    "    print(r.group(1))"
   ]
  },
  {
   "cell_type": "code",
   "execution_count": null,
   "id": "oriental-edwards",
   "metadata": {},
   "outputs": [],
   "source": []
  }
 ],
 "metadata": {
  "kernelspec": {
   "display_name": "Python 3",
   "language": "python",
   "name": "python3"
  },
  "language_info": {
   "codemirror_mode": {
    "name": "ipython",
    "version": 3
   },
   "file_extension": ".py",
   "mimetype": "text/x-python",
   "name": "python",
   "nbconvert_exporter": "python",
   "pygments_lexer": "ipython3",
   "version": "3.9.2"
  }
 },
 "nbformat": 4,
 "nbformat_minor": 5
}
