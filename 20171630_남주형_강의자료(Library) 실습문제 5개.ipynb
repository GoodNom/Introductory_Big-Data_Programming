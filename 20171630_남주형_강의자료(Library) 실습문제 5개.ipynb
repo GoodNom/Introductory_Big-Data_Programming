{
 "cells": [
  {
   "cell_type": "markdown",
   "id": "handmade-cricket",
   "metadata": {},
   "source": [
    "# 실습1\n",
    "## 1번"
   ]
  },
  {
   "cell_type": "code",
   "execution_count": 1,
   "id": "productive-centre",
   "metadata": {},
   "outputs": [
    {
     "name": "stdout",
     "output_type": "stream",
     "text": [
      "Overwriting W_2.py\n"
     ]
    }
   ],
   "source": [
    "%%writefile W_2.py\n",
    "import datetime\n",
    "import sys\n",
    "\n",
    "def get_name(year,month,day):\n",
    "    week = {\"Monday\":\"월요일\",\"Tuesday\":\"화요일\",\n",
    "            \"Wednesday\":\"수요일\",\"Thursday\":\"목요일\",\n",
    "            \"Friday\":\"금요일\",\"Saturday\":\"토요일\",\n",
    "            \"Sunday\":\"일요일\"}\n",
    "    dt = datetime.date(int(year),int(month),int(day))\n",
    "    day =dt.strftime(\"%A\")\n",
    "    get_day = week.get(day)\n",
    "    return get_day    \n",
    "    \n",
    "\n",
    "\n",
    "\n",
    "\n",
    "if __name__ == \"__main__\":\n",
    "    item = sys.argv\n",
    "    if len(item) != 4:\n",
    "        print(\"ERROR: \\\"%run 파일명 년 월 일\\\"의 형식에 맞게 입력해주세요.\")\n",
    "    else:\n",
    "        print(get_name(item[1],item[2],item[3]))\n",
    "        "
   ]
  },
  {
   "cell_type": "code",
   "execution_count": 2,
   "id": "manufactured-debate",
   "metadata": {},
   "outputs": [
    {
     "name": "stdout",
     "output_type": "stream",
     "text": [
      "월요일\n"
     ]
    }
   ],
   "source": [
    "%run W_2.py 2019 10 14"
   ]
  },
  {
   "cell_type": "markdown",
   "id": "expected-poison",
   "metadata": {},
   "source": [
    "# 실습2\n",
    "## 1번"
   ]
  },
  {
   "cell_type": "code",
   "execution_count": 3,
   "id": "graphic-poster",
   "metadata": {},
   "outputs": [
    {
     "data": {
      "text/plain": [
       "'nt'"
      ]
     },
     "execution_count": 3,
     "metadata": {},
     "output_type": "execute_result"
    }
   ],
   "source": [
    "import os\n",
    "os.name"
   ]
  },
  {
   "cell_type": "markdown",
   "id": "separated-philadelphia",
   "metadata": {},
   "source": [
    "## 2번"
   ]
  },
  {
   "cell_type": "code",
   "execution_count": 4,
   "id": "discrete-persian",
   "metadata": {},
   "outputs": [
    {
     "name": "stdout",
     "output_type": "stream",
     "text": [
      "Overwriting leapArg.py\n"
     ]
    }
   ],
   "source": [
    "%%writefile leapArg.py\n",
    "import datetime\n",
    "import sys\n",
    "\n",
    "def is_leap(y):\n",
    "    if (y%4==0 and y%100!=0)or(y%400==0):\n",
    "        return True\n",
    "    else:\n",
    "        return False\n",
    "    \n",
    "def get_name(year,month,day):\n",
    "    try:\n",
    "        week = {\"Monday\":\"월요일\",\"Tuesday\":\"화요일\",\n",
    "                \"Wednesday\":\"수요일\",\"Thursday\":\"목요일\",\n",
    "                \"Friday\":\"금요일\",\"Saturday\":\"토요일\",\n",
    "                \"Sunday\":\"일요일\"}\n",
    "        dt = datetime.date(int(year),int(month),int(day))\n",
    "        day =dt.strftime(\"%A\")\n",
    "        get_day = week.get(day)\n",
    "        if is_leap(int(year)):\n",
    "            return get_day+\"\\n입력하신 \"+year+\"은 윤년입니다\"\n",
    "        return get_day \n",
    "    except:\n",
    "        return \"입력하신 날짜는 존재하지 않습니다.\"\n",
    "\n",
    "if __name__ == \"__main__\":\n",
    "    item = sys.argv\n",
    "    if len(item) != 4:\n",
    "        print(\"ERROR: \\\"%run 파일명 년 월 일\\\"의 형식에 맞게 입력해주세요.\")\n",
    "    else:\n",
    "        print(get_name(item[1],item[2],item[3]))"
   ]
  },
  {
   "cell_type": "code",
   "execution_count": 5,
   "id": "quality-principal",
   "metadata": {},
   "outputs": [
    {
     "name": "stdout",
     "output_type": "stream",
     "text": [
      "일요일\n"
     ]
    }
   ],
   "source": [
    "%run leapArg.py 2018 4 15"
   ]
  },
  {
   "cell_type": "markdown",
   "id": "insured-stamp",
   "metadata": {},
   "source": [
    "## 3번"
   ]
  },
  {
   "cell_type": "code",
   "execution_count": 6,
   "id": "white-brief",
   "metadata": {},
   "outputs": [
    {
     "name": "stdout",
     "output_type": "stream",
     "text": [
      "-1.6351885780427125e-13\n",
      "2.939601270583009e+48\n",
      "1.0000000000000002\n"
     ]
    }
   ],
   "source": [
    "import math as m\n",
    "print(2000/m.log(20)*m.sin(2*m.pi))\n",
    "print(m.pow(3,100)*m.log(300))\n",
    "print(m.sin(m.radians(45))*m.pow(2,0.5))"
   ]
  },
  {
   "cell_type": "markdown",
   "id": "plain-bibliography",
   "metadata": {},
   "source": [
    "## 4번"
   ]
  },
  {
   "cell_type": "code",
   "execution_count": 7,
   "id": "beginning-treasury",
   "metadata": {},
   "outputs": [
    {
     "name": "stdout",
     "output_type": "stream",
     "text": [
      "가위, 바위, 보 중 하나를 선택하시오: 가위\n",
      "플레이어: 가위\n",
      "컴퓨터: 바위\n",
      "컴퓨터가 이겼습니다.\n"
     ]
    }
   ],
   "source": [
    "import random as r\n",
    "\n",
    "def compute(p,c):\n",
    "    if p == \"가위\" and c == \"가위\":\n",
    "        return \"비겼습니다.\"\n",
    "    elif p == \"가위\" and c == \"바위\":\n",
    "        return \"컴퓨터가 이겼습니다.\"\n",
    "    elif p == \"가위\" and c == \"보\":\n",
    "        return \"당신이 이겼습니다.\"\n",
    "    elif p == \"바위\" and c == \"가위\":\n",
    "        return \"당신이 이겼습니다.\"\n",
    "    elif p == \"바위\" and c == \"바위\":\n",
    "        return \"비겼습니다.\"\n",
    "    elif p == \"바위\" and c == \"보\":\n",
    "        return \"컴퓨터가 이겼습니다.\"\n",
    "    elif p == \"보\" and c == \"가위\":\n",
    "        return \"컴퓨터가 이겼습니다.\"\n",
    "    elif p == \"보\" and c == \"바위\":\n",
    "        return \"당신이 이겼습니다.\"\n",
    "    elif p == \"보\" and c == \"보\":\n",
    "        return \"비겼습니다.\"\n",
    "    else:\n",
    "        return \"ERROR: 가위, 바위, 보 중 하나를 선택해주세요.\"\n",
    "\n",
    "\n",
    "dic = {1:\"가위\",2:\"바위\",3:\"보\"}\n",
    "player = input(\"가위, 바위, 보 중 하나를 선택하시오: \")\n",
    "print(\"플레이어: \"+player)\n",
    "computer = dic.get(r.randint(1,3))\n",
    "print(\"컴퓨터: \"+computer)\n",
    "print(compute(player,computer))"
   ]
  },
  {
   "cell_type": "code",
   "execution_count": null,
   "id": "charitable-calculation",
   "metadata": {},
   "outputs": [],
   "source": []
  }
 ],
 "metadata": {
  "kernelspec": {
   "display_name": "Python 3",
   "language": "python",
   "name": "python3"
  },
  "language_info": {
   "codemirror_mode": {
    "name": "ipython",
    "version": 3
   },
   "file_extension": ".py",
   "mimetype": "text/x-python",
   "name": "python",
   "nbconvert_exporter": "python",
   "pygments_lexer": "ipython3",
   "version": "3.9.2"
  }
 },
 "nbformat": 4,
 "nbformat_minor": 5
}
