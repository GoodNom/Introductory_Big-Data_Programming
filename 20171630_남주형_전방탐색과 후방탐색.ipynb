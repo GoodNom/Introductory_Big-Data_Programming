{
 "cells": [
  {
   "cell_type": "markdown",
   "id": "german-particle",
   "metadata": {},
   "source": [
    "## 실습1"
   ]
  },
  {
   "cell_type": "code",
   "execution_count": 7,
   "id": "impaired-replacement",
   "metadata": {},
   "outputs": [
    {
     "name": "stdout",
     "output_type": "stream",
     "text": [
      "Overwriting search.py\n"
     ]
    }
   ],
   "source": [
    "%%writefile search.py\n",
    "import re\n",
    "\n",
    "if __name__ == \"__main__\":\n",
    "    data = \"\"\"\n",
    "    <HEAD>\n",
    "    <TITLE>Seo Maria's Homepage</TITLE>\n",
    "    </HEAD>\n",
    "    \"\"\"\n",
    "    \n",
    "    p = re.compile('(?<=\\<[Tt][Ii][Tt][Ll][Ee]\\>).*(?=\\<\\/[Tt][Ii][Tt][Ll][Ee]\\>)')\n",
    "    m = p.search(data)\n",
    "    print(m.group())\n",
    "    "
   ]
  },
  {
   "cell_type": "code",
   "execution_count": 8,
   "id": "illegal-turning",
   "metadata": {},
   "outputs": [
    {
     "name": "stdout",
     "output_type": "stream",
     "text": [
      "Seo Maria's Homepage\n"
     ]
    }
   ],
   "source": [
    "%run search"
   ]
  },
  {
   "cell_type": "markdown",
   "id": "eligible-survival",
   "metadata": {},
   "source": [
    "## 실습2"
   ]
  },
  {
   "cell_type": "code",
   "execution_count": 11,
   "id": "upper-egypt",
   "metadata": {},
   "outputs": [
    {
     "name": "stdout",
     "output_type": "stream",
     "text": [
      "Overwriting searchfile.py\n"
     ]
    }
   ],
   "source": [
    "%%writefile searchfile.py\n",
    "import re\n",
    "\n",
    "if __name__ == \"__main__\":\n",
    "    list = [\"foo.bar\",\"autoexec.bat\",\"sendmail.cf\",\"checksum.exe\"]\n",
    "    \n",
    "    print(\"***Problem1***\")\n",
    "    p1 = re.compile(r'.*[.]bat$')\n",
    "    for item in list:\n",
    "        m = p1.match(item)\n",
    "        if(m == None):\n",
    "            print(item)\n",
    "    \n",
    "    print(\"\\n***Problem2***\")\n",
    "    p2 = re.compile(r'.*[.](bat$|exe$)')\n",
    "    for item in list:\n",
    "        m = p2.match(item)\n",
    "        if(m == None):\n",
    "            print(item)"
   ]
  },
  {
   "cell_type": "code",
   "execution_count": 12,
   "id": "golden-oklahoma",
   "metadata": {},
   "outputs": [
    {
     "name": "stdout",
     "output_type": "stream",
     "text": [
      "***Problem1***\n",
      "foo.bar\n",
      "sendmail.cf\n",
      "checksum.exe\n",
      "\n",
      "***Problem2***\n",
      "foo.bar\n",
      "sendmail.cf\n"
     ]
    }
   ],
   "source": [
    "%run searchfile"
   ]
  },
  {
   "cell_type": "code",
   "execution_count": null,
   "id": "fantastic-chinese",
   "metadata": {},
   "outputs": [],
   "source": []
  }
 ],
 "metadata": {
  "kernelspec": {
   "display_name": "Python 3",
   "language": "python",
   "name": "python3"
  },
  "language_info": {
   "codemirror_mode": {
    "name": "ipython",
    "version": 3
   },
   "file_extension": ".py",
   "mimetype": "text/x-python",
   "name": "python",
   "nbconvert_exporter": "python",
   "pygments_lexer": "ipython3",
   "version": "3.9.2"
  }
 },
 "nbformat": 4,
 "nbformat_minor": 5
}
