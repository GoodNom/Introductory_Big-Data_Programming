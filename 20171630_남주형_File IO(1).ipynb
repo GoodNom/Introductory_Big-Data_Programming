{
 "cells": [
  {
   "cell_type": "code",
   "execution_count": 5,
   "id": "mathematical-entertainment",
   "metadata": {},
   "outputs": [
    {
     "name": "stdout",
     "output_type": "stream",
     "text": [
      "Overwriting ban_stu.py\n"
     ]
    }
   ],
   "source": [
    "%%writefile ban_stu.py\n",
    "\n",
    "if __name__ == \"__main__\":\n",
    "    fp = open(\"ban_stu.txt\",\"wt\", encoding = \"cp949\")\n",
    "    fp.write(\"2 Alice Paul David Bob\\n\")\n",
    "    fp.write(\"4 Cindy Stella Bill\\n\")\n",
    "    fp.write(\"1 Henry Jenny Jessica Erin Tim\\n\")\n",
    "    fp.write(\"3 John Joe Tom\")\n",
    "    fp.close()"
   ]
  },
  {
   "cell_type": "code",
   "execution_count": 6,
   "id": "focused-harbor",
   "metadata": {},
   "outputs": [],
   "source": [
    "%run ban_stu"
   ]
  },
  {
   "cell_type": "code",
   "execution_count": 7,
   "id": "satisfied-crime",
   "metadata": {},
   "outputs": [
    {
     "name": "stdout",
     "output_type": "stream",
     "text": [
      "Overwriting read_txt.py\n"
     ]
    }
   ],
   "source": [
    "%%writefile read_txt.py\n",
    "\n",
    "if __name__ == \"__main__\":\n",
    "    fp = open(\"ban_stu.txt\",\"rt\")\n",
    "    txt = fp.read()\n",
    "    line = txt.split('\\n')\n",
    "    stu = {}\n",
    "    for item in line:\n",
    "        stu[item[0]] = item[2:]\n",
    "    \n",
    "    for key, value in stu.items():\n",
    "        print(key,value)\n",
    "    fp.close()"
   ]
  },
  {
   "cell_type": "code",
   "execution_count": 8,
   "id": "introductory-mount",
   "metadata": {},
   "outputs": [
    {
     "name": "stdout",
     "output_type": "stream",
     "text": [
      "2 Alice Paul David Bob\n",
      "4 Cindy Stella Bill\n",
      "1 Henry Jenny Jessica Erin Tim\n",
      "3 John Joe Tom\n"
     ]
    }
   ],
   "source": [
    "%run read_txt"
   ]
  },
  {
   "cell_type": "code",
   "execution_count": null,
   "id": "sharp-football",
   "metadata": {},
   "outputs": [],
   "source": []
  }
 ],
 "metadata": {
  "kernelspec": {
   "display_name": "Python 3",
   "language": "python",
   "name": "python3"
  },
  "language_info": {
   "codemirror_mode": {
    "name": "ipython",
    "version": 3
   },
   "file_extension": ".py",
   "mimetype": "text/x-python",
   "name": "python",
   "nbconvert_exporter": "python",
   "pygments_lexer": "ipython3",
   "version": "3.9.2"
  }
 },
 "nbformat": 4,
 "nbformat_minor": 5
}
