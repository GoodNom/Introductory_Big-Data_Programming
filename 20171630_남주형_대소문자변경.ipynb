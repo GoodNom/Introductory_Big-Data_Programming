{
 "cells": [
  {
   "cell_type": "code",
   "execution_count": 1,
   "id": "artificial-spirituality",
   "metadata": {},
   "outputs": [
    {
     "name": "stdout",
     "output_type": "stream",
     "text": [
      "Overwriting chan.py\n"
     ]
    }
   ],
   "source": [
    "%%writefile chan.py\n",
    "def count_c(str_input):\n",
    "    freq = {}\n",
    "    for c in str_input:\n",
    "        freq[c.lower()] = freq.get(c.lower(),0)+1\n",
    "    return freq\n",
    "\n",
    "def swap_case(str_input):\n",
    "    res = \"\"\n",
    "    for c in str_input:\n",
    "        if c.isupper():\n",
    "            res += c.lower()\n",
    "        elif c.islower():\n",
    "            res += c.upper()\n",
    "        else:\n",
    "            res += c\n",
    "    return res\n",
    "\n",
    "\n",
    "str = input(\"Input:\")\n",
    "while str != 'STOP': \n",
    "    for key, value in count_c(str).items():\n",
    "        print(\"(\",key,\" : \",value,\")\",sep = \"\", end = \"  \")\n",
    "    print(\"\\n\", swap_case(str), sep = \"\")\n",
    "    str = input(\"Input:\")\n",
    "else:\n",
    "    print(\"Bye\")"
   ]
  },
  {
   "cell_type": "code",
   "execution_count": 3,
   "id": "offshore-organization",
   "metadata": {},
   "outputs": [
    {
     "name": "stdout",
     "output_type": "stream",
     "text": [
      "Input:Sogang\n",
      "(s : 1)  (o : 1)  (g : 2)  (a : 1)  (n : 1)  \n",
      "sOGANG\n",
      "Input:SOGANG\n",
      "(s : 1)  (o : 1)  (g : 2)  (a : 1)  (n : 1)  \n",
      "sogang\n",
      "Input:Univ\n",
      "(u : 1)  (n : 1)  (i : 1)  (v : 1)  \n",
      "uNIV\n",
      "Input:Tel\n",
      "(t : 1)  (e : 1)  (l : 1)  \n",
      "tEL\n",
      "Input:STOP\n",
      "Bye\n"
     ]
    }
   ],
   "source": [
    "%run chan.py"
   ]
  },
  {
   "cell_type": "code",
   "execution_count": null,
   "id": "declared-purse",
   "metadata": {},
   "outputs": [],
   "source": []
  }
 ],
 "metadata": {
  "kernelspec": {
   "display_name": "Python 3",
   "language": "python",
   "name": "python3"
  },
  "language_info": {
   "codemirror_mode": {
    "name": "ipython",
    "version": 3
   },
   "file_extension": ".py",
   "mimetype": "text/x-python",
   "name": "python",
   "nbconvert_exporter": "python",
   "pygments_lexer": "ipython3",
   "version": "3.9.2"
  }
 },
 "nbformat": 4,
 "nbformat_minor": 5
}
